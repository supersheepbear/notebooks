{
 "cells": [
  {
   "cell_type": "code",
   "execution_count": 6,
   "metadata": {},
   "outputs": [],
   "source": [
    "import math"
   ]
  },
  {
   "cell_type": "code",
   "execution_count": 73,
   "metadata": {},
   "outputs": [],
   "source": [
    "class Option(object):\n",
    "    def __init__(self,s0,sigma,r,t,n,k,type=''):\n",
    "        self.s0=s0\n",
    "        self.sigma=sigma\n",
    "        self.r=r\n",
    "        self.t=t\n",
    "        self.n=n\n",
    "        self.k=k\n",
    "        self.type=type\n",
    "\n",
    "    def _nCr(self,n,r):\n",
    "        f = math.factorial\n",
    "        return f(n) / (f(r) * f(n-r))\n",
    "\n",
    "    def Eu_price(self):\n",
    "        time=float(self.t)/self.n\n",
    "        u=math.exp(self.sigma*time**0.5)\n",
    "        d=math.exp(-self.sigma*time**0.5)\n",
    "        p=(math.exp(self.r*time)-d)/(u-d)\n",
    "        payment=0\n",
    "        for i in range(self.n+1):\n",
    "            if self.type=='Call':\n",
    "                pay=max(((self.s0*u**(self.n-2*i))-self.k),0)\n",
    "            elif self.type=='Put':\n",
    "                pay=max(self.k-((self.s0*u**(self.n-2*i))),0)\n",
    "            ppay=pay*self._nCr(self.n,i)*((1-p)**i)*(p**(self.n-i))\n",
    "            payment+=ppay\n",
    "        payment=payment/math.exp(self.r*self.t)\n",
    "        return payment\n",
    "\n",
    "    def Am_price(self):\n",
    "        time=float(self.t)/self.n\n",
    "        u=math.exp(self.sigma*time**0.5)\n",
    "        d=math.exp(-self.sigma*time**0.5)\n",
    "        p=(math.exp(self.r*time)-d)/(u-d)\n",
    "        pay=[]\n",
    "        for i in range(self.n+1):\n",
    "            if self.type=='Call':\n",
    "                pay.append(max(((self.s0*u**(self.n-2*i))-self.k),0))\n",
    "            elif self.type=='Put':\n",
    "                pay.append(max((self.k-(self.s0*u**(self.n-2*i))),0))\n",
    " \n",
    "        for j in range(self.n-1,-1,-1):\n",
    "            ppay=[]\n",
    "            qpay=[]\n",
    "            for m in range(j+1):\n",
    "                if self.type=='Call':\n",
    "                    qpay.append((max(((self.s0*u**(j-2*m))-self.k),0)))\n",
    "                elif self.type=='Put':\n",
    "                    qpay.append((max((self.k-(self.s0*u**(j-2*m))),0)))\n",
    "                ppay.append((pay[m]*p+pay[m+1]*(1-p))*math.exp(-self.r*time))\n",
    " \n",
    "                pay[m]=max(qpay[m],ppay[m])\n",
    "        return pay[0]\n",
    "    def delta_Am(self):\n",
    "        ds=0.1\n",
    "        new=Option(self.s0,self.sigma,self.r,self.t,self.n,self.k,self.type)\n",
    "        new1=Option(self.s0+ds,self.sigma,self.r,self.t,self.n,self.k,self.type)\n",
    "        return (new1.Am_price()-new.Am_price())/ds\n",
    "    def delta_Eu(self):\n",
    "        ds=0.1\n",
    "        new=Option(self.s0,self.sigma,self.r,self.t,self.n,self.k,self.type)\n",
    "        new1=Option(self.s0+ds,self.sigma,self.r,self.t,self.n,self.k,self.type)\n",
    "        return (new1.Eu_price()-new.Eu_price())/ds\n",
    "    def gamma_Am(self):\n",
    "        ds=0.1\n",
    "        new=Option(self.s0,self.sigma,self.r,self.t,self.n,self.k,self.type)\n",
    "        new1=Option(self.s0+ds,self.sigma,self.r,self.t,self.n,self.k,self.type)\n",
    "        return (new1.delta_Am()-new.delta_Am())/ds\n",
    "    def gamma_Eu(self):\n",
    "        ds=0.1\n",
    "        new=Option(self.s0,self.sigma,self.r,self.t,self.n,self.k,self.type)\n",
    "        new1=Option(self.s0+ds,self.sigma,self.r,self.t,self.n,self.k,self.type)\n",
    "        return (new1.delta_Eu()-new.delta_Eu())/ds\n",
    "    def vega_Am(self):\n",
    "        dsigma=0.0001\n",
    "        new=Option(self.s0,self.sigma,self.r,self.t,self.n,self.k,self.type)\n",
    "        new1=Option(self.s0,self.sigma+dsigma,self.r,self.t,self.n,self.k,self.type)\n",
    "        return (new1.Am_price()-new.Am_price())/dsigma/100\n",
    "    def vega_Eu(self):\n",
    "        dsigma=0.0001\n",
    "        new=Option(self.s0,self.sigma,self.r,self.t,self.n,self.k,self.type)\n",
    "        new1=Option(self.s0,self.sigma+dsigma,self.r,self.t,self.n,self.k,self.type)\n",
    "        return (new1.Eu_price()-new.Eu_price())/dsigma/100\n",
    "    def theta_Am(self):\n",
    "        dt=0.0001\n",
    "        new=Option(self.s0,self.sigma,self.r,self.t,self.n,self.k,self.type)\n",
    "        new1=Option(self.s0,self.sigma,self.r,self.t+dt,self.n,self.k,self.type)\n",
    "        return -(new1.Am_price()-new.Am_price())/dt\n",
    "    def theta_Eu(self):\n",
    "        dt=0.0001\n",
    "        new=Option(self.s0,self.sigma,self.r,self.t,self.n,self.k,self.type)\n",
    "        new1=Option(self.s0,self.sigma,self.r,self.t+dt,self.n,self.k,self.type)\n",
    "        return -(new1.Eu_price()-new.Eu_price())/dt\n",
    "    def rho_Am(self):\n",
    "        dr=0.0001\n",
    "        new=Option(self.s0,self.sigma,self.r,self.t,self.n,self.k,self.type)\n",
    "        new1=Option(self.s0,self.sigma,self.r+dr,self.t,self.n,self.k,self.type)\n",
    "        return (new1.Am_price()-new.Am_price())/dr/100\n",
    "    def rho_Eu(self):\n",
    "        dr=0.0001\n",
    "        new=Option(self.s0,self.sigma,self.r,self.t,self.n,self.k,self.type)\n",
    "        new1=Option(self.s0,self.sigma,self.r+dr,self.t,self.n,self.k,self.type)\n",
    "        return (new1.Eu_price()-new.Eu_price())/dr/100\n",
    "    def lamda_Am(self):\n",
    "        new=Option(self.s0,self.sigma,self.r,self.t,self.n,self.k,self.type)\n",
    "        return new.delta_Am()*self.s0/new.Am_price()\n",
    "    def lamda_Eu(self):\n",
    "        new=Option(self.s0,self.sigma,self.r,self.t,self.n,self.k,self.type)\n",
    "        return new.delta_Eu()*self.s0/new.Eu_price()"
   ]
  },
  {
   "cell_type": "code",
   "execution_count": 74,
   "metadata": {},
   "outputs": [],
   "source": [
    "newoption = Option(100.0,0.2,0.05,1.0,100,100.0,type='Put')"
   ]
  },
  {
   "cell_type": "code",
   "execution_count": 75,
   "metadata": {},
   "outputs": [
    {
     "ename": "TypeError",
     "evalue": "_nCr() takes 2 positional arguments but 3 were given",
     "output_type": "error",
     "traceback": [
      "\u001b[1;31m---------------------------------------------------------------------------\u001b[0m",
      "\u001b[1;31mTypeError\u001b[0m                                 Traceback (most recent call last)",
      "\u001b[1;32m<ipython-input-75-82ae5f0bf8e5>\u001b[0m in \u001b[0;36m<module>\u001b[1;34m\u001b[0m\n\u001b[1;32m----> 1\u001b[1;33m \u001b[0mnewoption\u001b[0m\u001b[1;33m.\u001b[0m\u001b[0mEu_price\u001b[0m\u001b[1;33m(\u001b[0m\u001b[1;33m)\u001b[0m\u001b[1;33m\u001b[0m\u001b[1;33m\u001b[0m\u001b[0m\n\u001b[0m",
      "\u001b[1;32m<ipython-input-73-5594fe92759a>\u001b[0m in \u001b[0;36mEu_price\u001b[1;34m(self)\u001b[0m\n\u001b[0;32m     24\u001b[0m             \u001b[1;32melif\u001b[0m \u001b[0mself\u001b[0m\u001b[1;33m.\u001b[0m\u001b[0mtype\u001b[0m\u001b[1;33m==\u001b[0m\u001b[1;34m'Put'\u001b[0m\u001b[1;33m:\u001b[0m\u001b[1;33m\u001b[0m\u001b[1;33m\u001b[0m\u001b[0m\n\u001b[0;32m     25\u001b[0m                 \u001b[0mpay\u001b[0m\u001b[1;33m=\u001b[0m\u001b[0mmax\u001b[0m\u001b[1;33m(\u001b[0m\u001b[0mself\u001b[0m\u001b[1;33m.\u001b[0m\u001b[0mk\u001b[0m\u001b[1;33m-\u001b[0m\u001b[1;33m(\u001b[0m\u001b[1;33m(\u001b[0m\u001b[0mself\u001b[0m\u001b[1;33m.\u001b[0m\u001b[0ms0\u001b[0m\u001b[1;33m*\u001b[0m\u001b[0mu\u001b[0m\u001b[1;33m**\u001b[0m\u001b[1;33m(\u001b[0m\u001b[0mself\u001b[0m\u001b[1;33m.\u001b[0m\u001b[0mn\u001b[0m\u001b[1;33m-\u001b[0m\u001b[1;36m2\u001b[0m\u001b[1;33m*\u001b[0m\u001b[0mi\u001b[0m\u001b[1;33m)\u001b[0m\u001b[1;33m)\u001b[0m\u001b[1;33m)\u001b[0m\u001b[1;33m,\u001b[0m\u001b[1;36m0\u001b[0m\u001b[1;33m)\u001b[0m\u001b[1;33m\u001b[0m\u001b[1;33m\u001b[0m\u001b[0m\n\u001b[1;32m---> 26\u001b[1;33m             \u001b[0mppay\u001b[0m\u001b[1;33m=\u001b[0m\u001b[0mpay\u001b[0m\u001b[1;33m*\u001b[0m\u001b[0mself\u001b[0m\u001b[1;33m.\u001b[0m\u001b[0m_nCr\u001b[0m\u001b[1;33m(\u001b[0m\u001b[0mself\u001b[0m\u001b[1;33m.\u001b[0m\u001b[0mn\u001b[0m\u001b[1;33m,\u001b[0m\u001b[0mi\u001b[0m\u001b[1;33m)\u001b[0m\u001b[1;33m*\u001b[0m\u001b[1;33m(\u001b[0m\u001b[1;33m(\u001b[0m\u001b[1;36m1\u001b[0m\u001b[1;33m-\u001b[0m\u001b[0mp\u001b[0m\u001b[1;33m)\u001b[0m\u001b[1;33m**\u001b[0m\u001b[0mi\u001b[0m\u001b[1;33m)\u001b[0m\u001b[1;33m*\u001b[0m\u001b[1;33m(\u001b[0m\u001b[0mp\u001b[0m\u001b[1;33m**\u001b[0m\u001b[1;33m(\u001b[0m\u001b[0mself\u001b[0m\u001b[1;33m.\u001b[0m\u001b[0mn\u001b[0m\u001b[1;33m-\u001b[0m\u001b[0mi\u001b[0m\u001b[1;33m)\u001b[0m\u001b[1;33m)\u001b[0m\u001b[1;33m\u001b[0m\u001b[1;33m\u001b[0m\u001b[0m\n\u001b[0m\u001b[0;32m     27\u001b[0m             \u001b[0mpayment\u001b[0m\u001b[1;33m+=\u001b[0m\u001b[0mppay\u001b[0m\u001b[1;33m\u001b[0m\u001b[1;33m\u001b[0m\u001b[0m\n\u001b[0;32m     28\u001b[0m         \u001b[0mpayment\u001b[0m\u001b[1;33m=\u001b[0m\u001b[0mpayment\u001b[0m\u001b[1;33m/\u001b[0m\u001b[0mmath\u001b[0m\u001b[1;33m.\u001b[0m\u001b[0mexp\u001b[0m\u001b[1;33m(\u001b[0m\u001b[0mself\u001b[0m\u001b[1;33m.\u001b[0m\u001b[0mr\u001b[0m\u001b[1;33m*\u001b[0m\u001b[0mself\u001b[0m\u001b[1;33m.\u001b[0m\u001b[0mt\u001b[0m\u001b[1;33m)\u001b[0m\u001b[1;33m\u001b[0m\u001b[1;33m\u001b[0m\u001b[0m\n",
      "\u001b[1;31mTypeError\u001b[0m: _nCr() takes 2 positional arguments but 3 were given"
     ]
    }
   ],
   "source": [
    "newoption.Eu_price()"
   ]
  },
  {
   "cell_type": "code",
   "execution_count": 76,
   "metadata": {},
   "outputs": [
    {
     "data": {
      "text/plain": [
       "6.082354409142343"
      ]
     },
     "execution_count": 76,
     "metadata": {},
     "output_type": "execute_result"
    }
   ],
   "source": [
    "newoption.Am_price()"
   ]
  },
  {
   "cell_type": "code",
   "execution_count": 65,
   "metadata": {},
   "outputs": [
    {
     "data": {
      "text/plain": [
       "-0.4077356199211213"
      ]
     },
     "execution_count": 65,
     "metadata": {},
     "output_type": "execute_result"
    }
   ],
   "source": [
    "newoption.delta_Am()"
   ]
  },
  {
   "cell_type": "code",
   "execution_count": 66,
   "metadata": {},
   "outputs": [
    {
     "data": {
      "text/plain": [
       "-0.32605801787942035"
      ]
     },
     "execution_count": 66,
     "metadata": {},
     "output_type": "execute_result"
    }
   ],
   "source": [
    "newoption.delta_Eu()"
   ]
  },
  {
   "cell_type": "code",
   "execution_count": 67,
   "metadata": {},
   "outputs": [
    {
     "data": {
      "text/plain": [
       "0.1395108142763668"
      ]
     },
     "execution_count": 67,
     "metadata": {},
     "output_type": "execute_result"
    }
   ],
   "source": [
    "newoption.gamma_Am()"
   ]
  },
  {
   "cell_type": "code",
   "execution_count": 68,
   "metadata": {},
   "outputs": [
    {
     "data": {
      "text/plain": [
       "2.6645352591003757e-13"
      ]
     },
     "execution_count": 68,
     "metadata": {},
     "output_type": "execute_result"
    }
   ],
   "source": [
    "newoption.gamma_Eu()"
   ]
  },
  {
   "cell_type": "code",
   "execution_count": 50,
   "metadata": {},
   "outputs": [
    {
     "data": {
      "text/plain": [
       "0.3744060132197191"
      ]
     },
     "execution_count": 50,
     "metadata": {},
     "output_type": "execute_result"
    }
   ],
   "source": [
    "newoption.vega_Am()"
   ]
  },
  {
   "cell_type": "code",
   "execution_count": 51,
   "metadata": {},
   "outputs": [
    {
     "data": {
      "text/plain": [
       "0.3743051109259099"
      ]
     },
     "execution_count": 51,
     "metadata": {},
     "output_type": "execute_result"
    }
   ],
   "source": [
    "newoption.vega_Eu()"
   ]
  },
  {
   "cell_type": "code",
   "execution_count": 52,
   "metadata": {},
   "outputs": [
    {
     "data": {
      "text/plain": [
       "-2.2344520210015872"
      ]
     },
     "execution_count": 52,
     "metadata": {},
     "output_type": "execute_result"
    }
   ],
   "source": [
    "newoption.theta_Am()"
   ]
  },
  {
   "cell_type": "code",
   "execution_count": 53,
   "metadata": {},
   "outputs": [
    {
     "data": {
      "text/plain": [
       "-1.6477913027390656"
      ]
     },
     "execution_count": 53,
     "metadata": {},
     "output_type": "execute_result"
    }
   ],
   "source": [
    "newoption.theta_Eu()"
   ]
  },
  {
   "cell_type": "code",
   "execution_count": 55,
   "metadata": {},
   "outputs": [
    {
     "data": {
      "text/plain": [
       "-0.30186710496398206"
      ]
     },
     "execution_count": 55,
     "metadata": {},
     "output_type": "execute_result"
    }
   ],
   "source": [
    "newoption.rho_Am()"
   ]
  },
  {
   "cell_type": "code",
   "execution_count": 56,
   "metadata": {},
   "outputs": [
    {
     "data": {
      "text/plain": [
       "-0.41890900016632315"
      ]
     },
     "execution_count": 56,
     "metadata": {},
     "output_type": "execute_result"
    }
   ],
   "source": [
    "newoption.rho_Eu()"
   ]
  },
  {
   "cell_type": "code",
   "execution_count": 60,
   "metadata": {},
   "outputs": [
    {
     "data": {
      "text/plain": [
       "-6.703582075195369"
      ]
     },
     "execution_count": 60,
     "metadata": {},
     "output_type": "execute_result"
    }
   ],
   "source": [
    "newoption.lamda_Am()"
   ]
  },
  {
   "cell_type": "code",
   "execution_count": 61,
   "metadata": {},
   "outputs": [
    {
     "data": {
      "text/plain": [
       "-5.871159464459399"
      ]
     },
     "execution_count": 61,
     "metadata": {},
     "output_type": "execute_result"
    }
   ],
   "source": [
    "newoption.lamda_Eu()"
   ]
  },
  {
   "cell_type": "code",
   "execution_count": null,
   "metadata": {},
   "outputs": [],
   "source": []
  }
 ],
 "metadata": {
  "kernelspec": {
   "display_name": "Python [conda env:py37] *",
   "language": "python",
   "name": "conda-env-py37-py"
  },
  "language_info": {
   "codemirror_mode": {
    "name": "ipython",
    "version": 3
   },
   "file_extension": ".py",
   "mimetype": "text/x-python",
   "name": "python",
   "nbconvert_exporter": "python",
   "pygments_lexer": "ipython3",
   "version": "3.7.5"
  }
 },
 "nbformat": 4,
 "nbformat_minor": 2
}
