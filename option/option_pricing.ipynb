{
 "cells": [
  {
   "cell_type": "code",
   "execution_count": 4,
   "metadata": {},
   "outputs": [],
   "source": [
    "import math"
   ]
  },
  {
   "cell_type": "code",
   "execution_count": 5,
   "metadata": {},
   "outputs": [],
   "source": [
    "class Option(object):\n",
    "    def __init__(self,s0,sigma,r,t,n,k,type=''):\n",
    "        self.s0=s0\n",
    "        self.sigma=sigma\n",
    "        self.r=r\n",
    "        self.t=t\n",
    "        self.n=n\n",
    "        self.k=k\n",
    "        self.type=type\n",
    "\n",
    "    def _nCr(self,n,r):\n",
    "        f = math.factorial\n",
    "        return f(n) / (f(r) * f(n-r))\n",
    "\n",
    "    def Eu_price(self):\n",
    "        time=float(self.t)/self.n\n",
    "        u=math.exp(self.sigma*time**0.5)\n",
    "        d=math.exp(-self.sigma*time**0.5)\n",
    "        p=(math.exp(self.r*time)-d)/(u-d)\n",
    "        payment=0\n",
    "        for i in range(self.n+1):\n",
    "            if self.type=='Call':\n",
    "                pay=max(((self.s0*u**(self.n-2*i))-self.k),0)\n",
    "            elif self.type=='Put':\n",
    "                pay=max(self.k-((self.s0*u**(self.n-2*i))),0)\n",
    "            ppay=pay*self._nCr(self.n,i)*((1-p)**i)*(p**(self.n-i))\n",
    "            payment+=ppay\n",
    "        payment=payment/math.exp(self.r*self.t)\n",
    "        return payment\n",
    "\n",
    "    def Am_price(self):\n",
    "        time=float(self.t)/self.n\n",
    "        u=math.exp(self.sigma*time**0.5)\n",
    "        d=math.exp(-self.sigma*time**0.5)\n",
    "        p=(math.exp(self.r*time)-d)/(u-d)\n",
    "        pay=[]\n",
    "        for i in range(self.n+1):\n",
    "            if self.type=='Call':\n",
    "                pay.append(max(((self.s0*u**(self.n-2*i))-self.k),0))\n",
    "            elif self.type=='Put':\n",
    "                pay.append(max((self.k-(self.s0*u**(self.n-2*i))),0))\n",
    " \n",
    "        for j in range(self.n-1,-1,-1):\n",
    "            ppay=[]\n",
    "            qpay=[]\n",
    "            for m in range(j+1):\n",
    "                if self.type=='Call':\n",
    "                    qpay.append((max(((self.s0*u**(j-2*m))-self.k),0)))\n",
    "                elif self.type=='Put':\n",
    "                    qpay.append((max((self.k-(self.s0*u**(j-2*m))),0)))\n",
    "                ppay.append((pay[m]*p+pay[m+1]*(1-p))*math.exp(-self.r*time))\n",
    " \n",
    "                pay[m]=max(qpay[m],ppay[m])\n",
    "        return pay[0]\n",
    "    def delta_Am(self):\n",
    "        ds=0.1\n",
    "        new=Option(self.s0,self.sigma,self.r,self.t,self.n,self.k,self.type)\n",
    "        new1=Option(self.s0+ds,self.sigma,self.r,self.t,self.n,self.k,self.type)\n",
    "        return (new1.Am_price()-new.Am_price())/ds\n",
    "    def delta_Eu(self):\n",
    "        ds=0.1\n",
    "        new=Option(self.s0,self.sigma,self.r,self.t,self.n,self.k,self.type)\n",
    "        new1=Option(self.s0+ds,self.sigma,self.r,self.t,self.n,self.k,self.type)\n",
    "        return (new1.Eu_price()-new.Eu_price())/ds\n",
    "    def gamma_Am(self):\n",
    "        ds=0.1\n",
    "        new=Option(self.s0,self.sigma,self.r,self.t,self.n,self.k,self.type)\n",
    "        new1=Option(self.s0+ds,self.sigma,self.r,self.t,self.n,self.k,self.type)\n",
    "        return (new1.delta_Am()-new.delta_Am())/ds\n",
    "    def gamma_Eu(self):\n",
    "        ds=0.1\n",
    "        new=Option(self.s0,self.sigma,self.r,self.t,self.n,self.k,self.type)\n",
    "        new1=Option(self.s0+ds,self.sigma,self.r,self.t,self.n,self.k,self.type)\n",
    "        return (new1.delta_Eu()-new.delta_Eu())/ds\n",
    "    def vega_Am(self):\n",
    "        dsigma=0.0001\n",
    "        new=Option(self.s0,self.sigma,self.r,self.t,self.n,self.k,self.type)\n",
    "        new1=Option(self.s0,self.sigma+dsigma,self.r,self.t,self.n,self.k,self.type)\n",
    "        return (new1.Am_price()-new.Am_price())/dsigma/100\n",
    "    def vega_Eu(self):\n",
    "        dsigma=0.0001\n",
    "        new=Option(self.s0,self.sigma,self.r,self.t,self.n,self.k,self.type)\n",
    "        new1=Option(self.s0,self.sigma+dsigma,self.r,self.t,self.n,self.k,self.type)\n",
    "        return (new1.Eu_price()-new.Eu_price())/dsigma/100\n",
    "    def theta_Am(self):\n",
    "        dt=0.0001\n",
    "        new=Option(self.s0,self.sigma,self.r,self.t,self.n,self.k,self.type)\n",
    "        new1=Option(self.s0,self.sigma,self.r,self.t+dt,self.n,self.k,self.type)\n",
    "        return -(new1.Am_price()-new.Am_price())/dt\n",
    "    def theta_Eu(self):\n",
    "        dt=0.0001\n",
    "        new=Option(self.s0,self.sigma,self.r,self.t,self.n,self.k,self.type)\n",
    "        new1=Option(self.s0,self.sigma,self.r,self.t+dt,self.n,self.k,self.type)\n",
    "        return -(new1.Eu_price()-new.Eu_price())/dt\n",
    "    def rho_Am(self):\n",
    "        dr=0.0001\n",
    "        new=Option(self.s0,self.sigma,self.r,self.t,self.n,self.k,self.type)\n",
    "        new1=Option(self.s0,self.sigma,self.r+dr,self.t,self.n,self.k,self.type)\n",
    "        return (new1.Am_price()-new.Am_price())/dr/100\n",
    "    def rho_Eu(self):\n",
    "        dr=0.0001\n",
    "        new=Option(self.s0,self.sigma,self.r,self.t,self.n,self.k,self.type)\n",
    "        new1=Option(self.s0,self.sigma,self.r+dr,self.t,self.n,self.k,self.type)\n",
    "        return (new1.Eu_price()-new.Eu_price())/dr/100\n",
    "    def lamda_Am(self):\n",
    "        new=Option(self.s0,self.sigma,self.r,self.t,self.n,self.k,self.type)\n",
    "        return new.delta_Am()*self.s0/new.Am_price()\n",
    "    def lamda_Eu(self):\n",
    "        new=Option(self.s0,self.sigma,self.r,self.t,self.n,self.k,self.type)\n",
    "        return new.delta_Eu()*self.s0/new.Eu_price()"
   ]
  },
  {
   "cell_type": "code",
   "execution_count": 6,
   "metadata": {},
   "outputs": [],
   "source": [
    "newoption = Option(100.0,0.2,0.05,1.0,100,100.0,type='Put')"
   ]
  },
  {
   "cell_type": "code",
   "execution_count": 7,
   "metadata": {},
   "outputs": [
    {
     "data": {
      "text/plain": [
       "5.5535541123212"
      ]
     },
     "execution_count": 7,
     "metadata": {},
     "output_type": "execute_result"
    }
   ],
   "source": [
    "newoption.Eu_price()"
   ]
  },
  {
   "cell_type": "code",
   "execution_count": 8,
   "metadata": {},
   "outputs": [
    {
     "data": {
      "text/plain": [
       "6.082354409142343"
      ]
     },
     "execution_count": 8,
     "metadata": {},
     "output_type": "execute_result"
    }
   ],
   "source": [
    "newoption.Am_price()"
   ]
  },
  {
   "cell_type": "code",
   "execution_count": 9,
   "metadata": {},
   "outputs": [
    {
     "data": {
      "text/plain": [
       "-0.4077356199211213"
      ]
     },
     "execution_count": 9,
     "metadata": {},
     "output_type": "execute_result"
    }
   ],
   "source": [
    "newoption.delta_Am()"
   ]
  },
  {
   "cell_type": "code",
   "execution_count": 10,
   "metadata": {},
   "outputs": [
    {
     "data": {
      "text/plain": [
       "-0.32605801787942035"
      ]
     },
     "execution_count": 10,
     "metadata": {},
     "output_type": "execute_result"
    }
   ],
   "source": [
    "newoption.delta_Eu()"
   ]
  },
  {
   "cell_type": "code",
   "execution_count": 11,
   "metadata": {},
   "outputs": [
    {
     "data": {
      "text/plain": [
       "0.1395108142763668"
      ]
     },
     "execution_count": 11,
     "metadata": {},
     "output_type": "execute_result"
    }
   ],
   "source": [
    "newoption.gamma_Am()"
   ]
  },
  {
   "cell_type": "code",
   "execution_count": 12,
   "metadata": {},
   "outputs": [
    {
     "data": {
      "text/plain": [
       "2.6645352591003757e-13"
      ]
     },
     "execution_count": 12,
     "metadata": {},
     "output_type": "execute_result"
    }
   ],
   "source": [
    "newoption.gamma_Eu()"
   ]
  },
  {
   "cell_type": "code",
   "execution_count": 13,
   "metadata": {},
   "outputs": [
    {
     "data": {
      "text/plain": [
       "0.3744060132197191"
      ]
     },
     "execution_count": 13,
     "metadata": {},
     "output_type": "execute_result"
    }
   ],
   "source": [
    "newoption.vega_Am()"
   ]
  },
  {
   "cell_type": "code",
   "execution_count": 14,
   "metadata": {},
   "outputs": [
    {
     "data": {
      "text/plain": [
       "0.3743051109259099"
      ]
     },
     "execution_count": 14,
     "metadata": {},
     "output_type": "execute_result"
    }
   ],
   "source": [
    "newoption.vega_Eu()"
   ]
  },
  {
   "cell_type": "code",
   "execution_count": 15,
   "metadata": {},
   "outputs": [
    {
     "data": {
      "text/plain": [
       "-2.2344520210015872"
      ]
     },
     "execution_count": 15,
     "metadata": {},
     "output_type": "execute_result"
    }
   ],
   "source": [
    "newoption.theta_Am()"
   ]
  },
  {
   "cell_type": "code",
   "execution_count": 16,
   "metadata": {},
   "outputs": [
    {
     "data": {
      "text/plain": [
       "-1.6477913027390656"
      ]
     },
     "execution_count": 16,
     "metadata": {},
     "output_type": "execute_result"
    }
   ],
   "source": [
    "newoption.theta_Eu()"
   ]
  },
  {
   "cell_type": "code",
   "execution_count": 17,
   "metadata": {},
   "outputs": [
    {
     "data": {
      "text/plain": [
       "-0.30186710496398206"
      ]
     },
     "execution_count": 17,
     "metadata": {},
     "output_type": "execute_result"
    }
   ],
   "source": [
    "newoption.rho_Am()"
   ]
  },
  {
   "cell_type": "code",
   "execution_count": 18,
   "metadata": {},
   "outputs": [
    {
     "data": {
      "text/plain": [
       "-0.41890900016632315"
      ]
     },
     "execution_count": 18,
     "metadata": {},
     "output_type": "execute_result"
    }
   ],
   "source": [
    "newoption.rho_Eu()"
   ]
  },
  {
   "cell_type": "code",
   "execution_count": 19,
   "metadata": {},
   "outputs": [
    {
     "data": {
      "text/plain": [
       "-6.703582075195369"
      ]
     },
     "execution_count": 19,
     "metadata": {},
     "output_type": "execute_result"
    }
   ],
   "source": [
    "newoption.lamda_Am()"
   ]
  },
  {
   "cell_type": "code",
   "execution_count": 20,
   "metadata": {},
   "outputs": [
    {
     "data": {
      "text/plain": [
       "-5.871159464459399"
      ]
     },
     "execution_count": 20,
     "metadata": {},
     "output_type": "execute_result"
    }
   ],
   "source": [
    "newoption.lamda_Eu()"
   ]
  }
 ],
 "metadata": {
  "kernelspec": {
   "display_name": "Python [conda env:py37] *",
   "language": "python",
   "name": "conda-env-py37-py"
  },
  "language_info": {
   "codemirror_mode": {
    "name": "ipython",
    "version": 3
   },
   "file_extension": ".py",
   "mimetype": "text/x-python",
   "name": "python",
   "nbconvert_exporter": "python",
   "pygments_lexer": "ipython3",
   "version": "3.7.5"
  }
 },
 "nbformat": 4,
 "nbformat_minor": 2
}
