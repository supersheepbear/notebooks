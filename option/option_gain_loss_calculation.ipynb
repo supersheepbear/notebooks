{
  "cells": [
    {
      "metadata": {
        "trusted": true
      },
      "cell_type": "code",
      "source": "from IPython.display import display_html\ndisplay_html(\"\"\"<button onclick=\"$('.input, .prompt, .output_stderr, .output_error').toggle();\">Toggle Code</button>\"\"\", raw=True)",
      "execution_count": 45,
      "outputs": [
        {
          "output_type": "display_data",
          "data": {
            "text/html": "<button onclick=\"$('.input, .prompt, .output_stderr, .output_error').toggle();\">Toggle Code</button>"
          },
          "metadata": {}
        }
      ]
    },
    {
      "metadata": {
        "trusted": true,
        "scrolled": true
      },
      "cell_type": "code",
      "source": "from enum import Enum\nimport numpy as np\nimport matplotlib.pyplot as plt\n%matplotlib inline",
      "execution_count": 82,
      "outputs": []
    },
    {
      "metadata": {
        "trusted": true
      },
      "cell_type": "code",
      "source": "class Operation(Enum):\n    buy = 0\n    sell = 1",
      "execution_count": 5,
      "outputs": []
    },
    {
      "metadata": {
        "trusted": true
      },
      "cell_type": "code",
      "source": "class Option(object):\n    def __init__(self,\n                 operation: Operation=None,\n                 option_price: float=None,\n                 strike_price: float=None,\n                 multiplier: int=None,\n                 number: int=None):\n        self.operation = operation\n        self.option_price = option_price\n        self.strike_price = strike_price\n        self.multiplier = multiplier\n        self.number = number\n        # A dictionary for any gain that is calculated\n        self.gain={}",
      "execution_count": 6,
      "outputs": []
    },
    {
      "metadata": {
        "trusted": true
      },
      "cell_type": "code",
      "source": "class Call(Option):\n    pass",
      "execution_count": 7,
      "outputs": []
    },
    {
      "metadata": {
        "trusted": true
      },
      "cell_type": "code",
      "source": "class Put(Option):\n    pass",
      "execution_count": 8,
      "outputs": []
    },
    {
      "metadata": {
        "trusted": true
      },
      "cell_type": "code",
      "source": "class GainCalculation(object):\n    def __init__(self):\n        self.gain: float = None\n    def __call__(self,\n                 call_list: list,\n                 put_list: list,\n                 actual_price: float,\n                 *args,\n                 **kwargs):\n        self.call_list = call_list\n        self.put_list = put_list\n        self.actual_price = actual_price\n        self.gain = 0.0\n        for call in self.call_list:\n            if call.operation == Operation.buy: \n                 self._process_buy_call(call)\n            else:\n                 self._process_sell_call(call)\n\n        for put in self.put_list:\n            if put.operation == Operation.buy: \n                 self._process_buy_put(put)\n            else:\n                 self._process_sell_put(put)\n\n    def _process_buy_call(self, call: Call):\n        if self.actual_price > call.strike_price:\n            price_diff: float = self.actual_price - call.strike_price\n            # the value gained by executing option\n            self.gain = self.gain + price_diff * call.multiplier * call.number\n            # the value lost by option price\n            self.gain = self.gain - call.option_price * call.number * call.multiplier\n            call.gain[self.actual_price] = self.gain - call.option_price * call.number * call.multiplier\n        else:\n            # the value lost by option price\n            self.gain = self.gain - call.option_price * call.number * call.multiplier\n            call.gain[self.actual_price] = self.gain - call.option_price * call.number * call.multiplier\n    def _process_sell_call(self, call: Call):\n        if self.actual_price > call.strike_price:\n            price_diff: float = self.actual_price - call.strike_price\n            # the value lost by buyer executing option\n            self.gain = self.gain - price_diff * call.multiplier * call.number\n            # the value gain by option price\n            self.gain = self.gain + call.option_price * call.number * call.multiplier\n            call.gain[self.actual_price] = self.gain + call.option_price * call.number * call.multiplier\n        else:\n            # the value gain by option price\n            self.gain = self.gain + call.option_price * call.number * call.multiplier\n            call.gain[self.actual_price] = self.gain + call.option_price * call.number * call.multiplier\n            \n    def _process_buy_put(self, put: Put):\n        if self.actual_price < put.strike_price:\n            price_diff: float = put.strike_price - self.actual_price\n            # the value gained by executing option\n            self.gain = self.gain + price_diff * put.multiplier * put.number\n            # the value lost by option price\n            self.gain = self.gain - put.option_price * put.number * put.multiplier\n            put.gain[self.actual_price] = self.gain - put.option_price * put.number * put.multiplier\n        else:\n            # the value lost by option price\n            self.gain = self.gain - put.option_price * put.number * put.multiplier\n            put.gain[self.actual_price] = self.gain - put.option_price * put.number * put.multiplier\n\n    def _process_sell_put(self, put: Put):\n        if self.actual_price < put.strike_price:\n            price_diff: float = put.strike_price - self.actual_price\n            # the value gained by executing option\n            self.gain = self.gain - price_diff * put.multiplier * put.number\n            # the value lost by option price\n            self.gain = self.gain + put.option_price * put.number * put.multiplier\n            put.gain[self.actual_price] = self.gain + put.option_price * put.number * put.multiplier\n        else:\n            # the value lost by option price\n            self.gain = self.gain + put.option_price * put.number * put.multiplier\n            put.gain[self.actual_price] = self.gain + put.option_price * put.number * put.multiplier\n",
      "execution_count": 28,
      "outputs": []
    },
    {
      "metadata": {
        "trusted": true
      },
      "cell_type": "markdown",
      "source": "# 鹰式策略\n两个看涨， 两个看跌"
    },
    {
      "metadata": {
        "trusted": true
      },
      "cell_type": "code",
      "source": "call_1 = Call(operation=Operation.buy,\n              option_price=8.25,\n              strike_price=2410,\n              multiplier=50,\n              number=1)\n\ncall_2 = Call(operation=Operation.sell,\n              option_price=11.75,\n              strike_price=2400,\n              multiplier=50,\n              number=1)\n\nput_1 = Put(operation=Operation.buy,\n            option_price=13.75,\n            strike_price=2345,\n            multiplier=50,\n            number=1)\n\nput_2 = Put(operation=Operation.sell,\n            option_price=15.75,\n            strike_price=2355,\n            multiplier=50,\n            number=1)",
      "execution_count": 47,
      "outputs": []
    },
    {
      "metadata": {
        "trusted": true
      },
      "cell_type": "code",
      "source": "print(\"\"\"\ncall_1 = Call(operation=Operation.buy,\n              option_price=8.25,\n              strike_price=2410,\n              multiplier=50,\n              number=1)\n\ncall_2 = Call(operation=Operation.sell,\n              option_price=11.75,\n              strike_price=2400,\n              multiplier=50,\n              number=1)\n\nput_1 = Put(operation=Operation.buy,\n            option_price=13.75,\n            strike_price=2345,\n            multiplier=50,\n            number=1)\n\nput_2 = Put(operation=Operation.sell,\n            option_price=15.75,\n            strike_price=2355,\n            multiplier=50,\n            number=1)\n\"\"\"\n)",
      "execution_count": 48,
      "outputs": [
        {
          "output_type": "stream",
          "text": "\ncall_1 = Call(operation=Operation.buy,\n              option_price=8.25,\n              strike_price=2410,\n              multiplier=50,\n              number=1)\n\ncall_2 = Call(operation=Operation.sell,\n              option_price=11.75,\n              strike_price=2400,\n              multiplier=50,\n              number=1)\n\nput_1 = Put(operation=Operation.buy,\n            option_price=13.75,\n            strike_price=2345,\n            multiplier=50,\n            number=1)\n\nput_2 = Put(operation=Operation.sell,\n            option_price=15.75,\n            strike_price=2355,\n            multiplier=50,\n            number=1)\n\n",
          "name": "stdout"
        }
      ]
    },
    {
      "metadata": {
        "trusted": true
      },
      "cell_type": "code",
      "source": "gain_calculator = GainCalculation()",
      "execution_count": 49,
      "outputs": []
    },
    {
      "metadata": {},
      "cell_type": "markdown",
      "source": "## 标的价格2400收益"
    },
    {
      "metadata": {
        "trusted": true
      },
      "cell_type": "code",
      "source": "gain_calculator(call_list=[call_1, call_2],\n                put_list=[put_1, put_2],\n                actual_price=2400)",
      "execution_count": 50,
      "outputs": []
    },
    {
      "metadata": {
        "trusted": true
      },
      "cell_type": "code",
      "source": "gain_calculator.gain",
      "execution_count": 51,
      "outputs": [
        {
          "output_type": "execute_result",
          "execution_count": 51,
          "data": {
            "text/plain": "275.0"
          },
          "metadata": {}
        }
      ]
    },
    {
      "metadata": {},
      "cell_type": "markdown",
      "source": "## 标的价格2500收益"
    },
    {
      "metadata": {
        "trusted": true
      },
      "cell_type": "code",
      "source": "gain_calculator(call_list=[call_1, call_2],\n                put_list=[put_1, put_2],\n                actual_price=2500)",
      "execution_count": 52,
      "outputs": []
    },
    {
      "metadata": {
        "trusted": true
      },
      "cell_type": "code",
      "source": "gain_calculator.gain",
      "execution_count": 53,
      "outputs": [
        {
          "output_type": "execute_result",
          "execution_count": 53,
          "data": {
            "text/plain": "-225.0"
          },
          "metadata": {}
        }
      ]
    },
    {
      "metadata": {},
      "cell_type": "markdown",
      "source": "## 标的价格2300收益"
    },
    {
      "metadata": {
        "trusted": true
      },
      "cell_type": "code",
      "source": "gain_calculator(call_list=[call_1, call_2],\n                put_list=[put_1, put_2],\n                actual_price=2300)",
      "execution_count": 54,
      "outputs": []
    },
    {
      "metadata": {
        "trusted": true
      },
      "cell_type": "code",
      "source": "gain_calculator.gain",
      "execution_count": 55,
      "outputs": [
        {
          "output_type": "execute_result",
          "execution_count": 55,
          "data": {
            "text/plain": "-225.0"
          },
          "metadata": {}
        }
      ]
    },
    {
      "metadata": {},
      "cell_type": "markdown",
      "source": "## 以上计算的收益汇总"
    },
    {
      "metadata": {
        "trusted": true
      },
      "cell_type": "code",
      "source": "print(call_1.gain, call_2.gain, put_1.gain, put_2.gain)",
      "execution_count": 56,
      "outputs": [
        {
          "output_type": "stream",
          "text": "{2400: -825.0, 2500: 3675.0, 2300: -825.0} {2400: 762.5, 2500: 262.5, 2300: 762.5} {2400: -1200.0, 2500: -1700.0, 2300: 1050.0} {2400: 1062.5, 2500: 562.5, 2300: 562.5}\n",
          "name": "stdout"
        }
      ]
    },
    {
      "metadata": {},
      "cell_type": "markdown",
      "source": "## 收益分布"
    },
    {
      "metadata": {
        "trusted": true
      },
      "cell_type": "code",
      "source": "actual_price_array = np.arange(2300,2500,1)\ngain_list = []",
      "execution_count": 89,
      "outputs": []
    },
    {
      "metadata": {
        "trusted": true
      },
      "cell_type": "code",
      "source": "gain_calculator = GainCalculation()\nfor actual_price in actual_price_array:\n    gain_calculator(call_list=[call_1, call_2],\n                    put_list=[put_1, put_2],\n                    actual_price=actual_price)\n    gain_list.append(gain_calculator.gain)",
      "execution_count": 90,
      "outputs": []
    },
    {
      "metadata": {
        "trusted": true
      },
      "cell_type": "code",
      "source": "_ = plt.plot(actual_price_array, gain_list)\n_ = plt.plot([2300,2500],[0,0])\n_ = plt.xlabel('actual price')\n_ = plt.ylabel('strategy gain')",
      "execution_count": 94,
      "outputs": [
        {
          "output_type": "display_data",
          "data": {
            "image/png": "[encoded data removed]",
            "text/plain": "<Figure size 432x288 with 1 Axes>"
          },
          "metadata": {
            "needs_background": "light"
          }
        }
      ]
    },
    {
      "metadata": {
        "trusted": true
      },
      "cell_type": "code",
      "source": "",
      "execution_count": null,
      "outputs": []
    }
  ],
  "metadata": {
    "kernelspec": {
      "name": "python36",
      "display_name": "Python 3.6",
      "language": "python"
    },
    "language_info": {
      "mimetype": "text/x-python",
      "nbconvert_exporter": "python",
      "name": "python",
      "pygments_lexer": "ipython3",
      "version": "3.6.6",
      "file_extension": ".py",
      "codemirror_mode": {
        "version": 3,
        "name": "ipython"
      }
    }
  },
  "nbformat": 4,
  "nbformat_minor": 2
}